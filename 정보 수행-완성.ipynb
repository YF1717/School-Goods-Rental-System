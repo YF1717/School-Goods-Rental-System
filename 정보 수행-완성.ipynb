{
 "cells": [
  {
   "cell_type": "code",
   "execution_count": 1,
   "metadata": {},
   "outputs": [],
   "source": [
    "import re\n",
    "\n",
    "main_data={}  # 빌리고 남은 물품, 수량 \n",
    "origin_data={}  # 존재하는 모든 물품, 수량\n",
    "student = {}  # 학번 및 대여 물품\n",
    "sp = '0000'  # 비밀번호는 숫자만 가능\n",
    "f = '종료'  # 종료 메세지\n",
    "\n",
    "\n",
    "def input_func():  # 앞에서 사용된 문자열을 스페이스바로 잘라 구분하는 \n",
    "    a,b=input().split(' ')\n",
    "    prom=[a,int(b)]\n",
    "    return prom\n",
    "\n",
    "\n",
    "def 물품등록():  # 선생님께서 물품을 추가하는 기능 \n",
    "    print('물품등록을 원하신다면 비밀번호를 입력해주세요')  # 비밀번호 입력란\n",
    "    while True :\n",
    "        p = input()\n",
    "        if p == sp:  # 입력번호와 비밀번호가 일치하는지 확인\n",
    "            print('잠금해제. 물품 등록 시작. 물품 등록을 멈추시려면 \"종료 0\"을 입력해주세요')  # 추가할 물품을 입력하거나 종료\n",
    "            while True:\n",
    "                a = input_func()\n",
    "                if a[0] == '종료':  # 종료 0 을 입력하면 메세지 출력\n",
    "                    print('정말로 종료하시겠습니까? 종료하시려면 \"종료\"를 입력해주세요')\n",
    "                    break\n",
    "                else:\n",
    "                    main_data[a[0]] = a[1]  # 물품과 수량을 입력한다\n",
    "                    origin_data[a[0]] = a[1]  # 물품과 수량을 입력한다\n",
    "        elif re.match('[0-9]+', p) is not None:\n",
    "            print('비밀번호가 틀렸습니다. 비밀번호 확인 후 다시 입력해주세요.')  # 비밀번호가 틀리면 메세지 출력\n",
    "        elif p == f :  # 종료메세지 입력받으면 반복문 취소\n",
    "            break\n",
    "        else:\n",
    "            print('종료 명령어가 올바르지 않습니다. \"종료\"라고 다시 한번 입력해주세요.')\n",
    "\n",
    "\n",
    "def 대여or반납():  # 학생이 물품을 대여하는 함수\n",
    "    print('학번을 입력하세요')\n",
    "    stn = int(input())\n",
    "    if stn not in student:\n",
    "        student[stn] = {}\n",
    "    while True:\n",
    "        mode_num=input('대여, 반납, 현재 상태 확인, 종료 중 원하시는 작업을 입력하세요\n')\n",
    "        if mode_num=='대여':  # 대여한다\n",
    "            print('대여하실 물품의 이름과 수량을 띄워쓰기로 구분하여 입력해주세요')\n",
    "            a = input_func()\n",
    "            if a[0] not in main_data:  # 없는 물품을 입력받았을 경우\n",
    "                print('현재 입력하신 물품은 없습니다.')\n",
    "            elif main_data[a[0]]-a[1] < 0:  # 빌리는 물품이 존재 수량보다 많을 경우\n",
    "                print('보유한 것보다 많은 수량을 입력하셨습니다. 수량 확인 후 다시 입력해주세요.')\n",
    "            else:\n",
    "                main_data[a[0]]-=a[1]\n",
    "                if a[0] not in student[stn]:\n",
    "                student[stn][a[0]] = a[1]\n",
    "            else:\n",
    "                student[stn][a[0]] += a[1]\n",
    "\n",
    "        elif mode_num=='반납':  # 반납한다\n",
    "            print('반납하실 물품의 이름과 수량을 띄워쓰기로 구분하여 입력해주세요')\n",
    "            a = input_func()\n",
    "            if a[0] not in student[stn]:\n",
    "                print(\"입력하신 물품명이 잘못 되었거나 해당 물품을 대여하신적이 없습니다. 물품을 다시 한번 입력해주세요.\")\n",
    "            else:\n",
    "                if a[1] > student[stn][a[0]]:\n",
    "                    print(\"대여하신 물품보다 많은 수량의 물품을 반납할 수 없습니다. 수량을 다시 한번 확인해주세요.\")  # 반납한 양이 원래 수량보다 많을 때\n",
    "                else:\n",
    "                    student[stn][a[0]] -= a[1]\n",
    "                    main_data[a[0]] += a[1]  # 반납한 수량만큼 추가\n",
    "                    print(\"반납이 완료되었습니다. 반납되지 않은 \"+a[0]+\"의 수량은 \"+str(student[stn][a[0]])+\"개 입니다.\")\n",
    "                    if student[stn][a[0]] == 0:\n",
    "                        del student[stn][a[0]]\n",
    "        elif mode_num=='현재 상태 확인':  # 현재 수량, 물품 확인\n",
    "            print(main_data)\n",
    "        elif mode_num=='종료':  # 종료\n",
    "            break\n",
    "        else:  # 이상한 숫자 넣을\n",
    "            print('입력이 잘못되었습니다.')\n",
    "\n",
    "\n",
    "def 학번확인():  # 학번 입력시 어떤 물품을 얼마나 빌렸는지 확인\n",
    "    print('학번을 입력하세요.')\n",
    "    stn = int(input())\n",
    "    if (stn not in student) or len(student[stn]) == 0:\n",
    "        print('대여중인 물품이 없습니다.')\n",
    "    else:\n",
    "        print(student[stn])\n",
    "\n",
    "\n",
    "kk = str(input())\n",
    "if kk == \"물품등록()\":\n",
    "    물품등록()\n",
    "elif kk == \"대여or반납()\":\n",
    "    대여or반납()\n",
    "elif kk == \"학번확인()\":\n",
    "    학번확인()\n",
    "else:\n",
    "    print(\"error\")\n",
    "\n"
   ]
  },
  {
   "cell_type": "code",
   "execution_count": 2,
   "metadata": {},
   "outputs": [
    {
     "name": "stdout",
     "output_type": "stream",
     "text": [
      "물품등록을 원하신다면 비밀번호를 입력해주세요\n",
      "1234\n",
      "비밀번호가 틀렸습니다. 비밀번호 확인 후 다시 입력해주세요.\n",
      "aqwe345\n",
      "종료 명령어가 올바르지 않습니다. \"종료\"라고 다시 한번 입력해주세요.\n",
      "0000\n",
      "잠금해제 되었습니다. 물품 등록을 시작합니다. 물품 등록을 멈추시려면 \"종료 0\"을 입력해주세요.\n",
      "비커 10\n",
      "메스실린더 10\n",
      "종료 0\n",
      "정말로 종료하시겠습니까? 종료하시려면 \"종료\"를 입력해주세요\n",
      "종료\n"
     ]
    }
   ],
   "source": [
    "물품등록()"
   ]
  },
  {
   "cell_type": "code",
   "execution_count": 3,
   "metadata": {},
   "outputs": [
    {
     "name": "stdout",
     "output_type": "stream",
     "text": [
      "학번을 입력하세요\n",
      "2113\n",
      "대여, 반납, 현재 상태 확인, 종료 중 원하시는 작업을 입력하세요.\n",
      "대여\n",
      "대여하실 물품의 이름과 수량을 띄워쓰기로 구분하여 입력해주세요\n",
      "비커 4\n",
      "대여, 반납, 현재 상태 확인, 종료 중 원하시는 작업을 입력하세요.\n",
      "현재 상태 확인\n",
      "{'비커': 6, '메스실린더': 10}\n",
      "대여, 반납, 현재 상태 확인, 종료 중 원하시는 작업을 입력하세요.\n",
      "반납\n",
      "반납하실 물품의 이름과 수량을 띄워쓰기로 구분하여 입력해주세요\n",
      "비커 2\n",
      "반납이 완료되었습니다. 반납되지 않은 비커의 수량은 2개 입니다.\n",
      "대여, 반납, 현재 상태 확인, 종료 중 원하시는 작업을 입력하세요.\n",
      "현재 상태 확인\n",
      "{'비커': 8, '메스실린더': 10}\n",
      "대여, 반납, 현재 상태 확인, 종료 중 원하시는 작업을 입력하세요.\n",
      "반납\n",
      "반납하실 물품의 이름과 수량을 띄워쓰기로 구분하여 입력해주세요\n",
      "비커 3\n",
      "대여하신 물품보다 많은 수량의 물품을 반납할 수 없습니다. 수량을 다시 한번 확인해주세요.\n",
      "대여, 반납, 현재 상태 확인, 종료 중 원하시는 작업을 입력하세요.\n",
      "반납\n",
      "반납하실 물품의 이름과 수량을 띄워쓰기로 구분하여 입력해주세요\n",
      "비커 1\n",
      "반납이 완료되었습니다. 반납되지 않은 비커의 수량은 1개 입니다.\n",
      "대여, 반납, 현재 상태 확인, 종료 중 원하시는 작업을 입력하세요.\n",
      "종료\n"
     ]
    }
   ],
   "source": [
    "대여or반납()"
   ]
  },
  {
   "cell_type": "code",
   "execution_count": 4,
   "metadata": {},
   "outputs": [
    {
     "name": "stdout",
     "output_type": "stream",
     "text": [
      "학번을 입력하세요\n",
      "2113\n",
      "{'비커': 1}\n"
     ]
    }
   ],
   "source": [
    "학번확인()"
   ]
  },
  {
   "cell_type": "code",
   "execution_count": 5,
   "metadata": {},
   "outputs": [
    {
     "name": "stdout",
     "output_type": "stream",
     "text": [
      "학번을 입력하세요\n",
      "2520\n",
      "대여중인 물품이 없습니다.\n"
     ]
    }
   ],
   "source": [
    "학번확인()"
   ]
  },
  {
   "cell_type": "code",
   "execution_count": null,
   "metadata": {},
   "outputs": [],
   "source": []
  },
  {
   "cell_type": "code",
   "execution_count": null,
   "metadata": {},
   "outputs": [],
   "source": []
  }
 ],
 "metadata": {
  "kernelspec": {
   "display_name": "Python 3",
   "language": "python",
   "name": "python3"
  },
  "language_info": {
   "codemirror_mode": {
    "name": "ipython",
    "version": 3
   },
   "file_extension": ".py",
   "mimetype": "text/x-python",
   "name": "python",
   "nbconvert_exporter": "python",
   "pygments_lexer": "ipython3",
   "version": "3.6.4"
  }
 },
 "nbformat": 4,
 "nbformat_minor": 2
}
