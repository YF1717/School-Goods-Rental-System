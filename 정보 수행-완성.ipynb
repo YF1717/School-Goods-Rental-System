{
 "cells": [
  {
   "cell_type": "code",
   "execution_count": 1,
   "metadata": {},
   "outputs": [],
   "source": [
    "class Queue:\n",
    "    def __init__(self):\n",
    "        self.items = []\n",
    "    def enqueue(self, item):\n",
    "        self.items.insert(0, item)\n",
    "    def dequeue(self):\n",
    "        a = self.items.pop()\n",
    "        return a\n",
    "    def isEmpty(self):\n",
    "        return len(self.items) == []\n",
    "    def size(self):\n",
    "        return len(self.items)\n",
    "    def queuer(self):\n",
    "        return self.items\n",
    "\n",
    "main_data={}\n",
    "origin_data={}\n",
    "student={}\n",
    "sp = '0000'\n",
    "f = '종료'\n",
    "\n",
    "def 물품등록():\n",
    "    print('물품등록을 원하신다면 비밀번호를 입력해주세요.')\n",
    "    while True :\n",
    "        p=input()\n",
    "        if p == sp:\n",
    "            print('잠금해제 되었습니다. 물품 등록을 시작합니다. 물품 등록을 멈추시려면 \"종료 0\"을 입력해주세요.')\n",
    "            while True:\n",
    "                a=input_func()\n",
    "                if a[0] =='종료':\n",
    "                    print('정말로 종료하시겠습니까? 종료하시려면 \"종료\"를 입력해주세요.')\n",
    "                    break\n",
    "                else:\n",
    "                    main_data[a[0]]=a[1]\n",
    "                    origin_data[a[0]]=a[1]\n",
    "        elif p == f :\n",
    "            break\n",
    "        else:\n",
    "            print('비밀번호가 틀렸습니다. 비밀번호 확인 후 다시 입력해주세요.')\n",
    "\n",
    "q = Queue()\n",
    "q.__init__()           \n",
    "\n",
    "def 대여or반납():\n",
    "    while True:\n",
    "        mode_num=input('대여, 반납, 현재 상태 확인, 종료 중 원하시는 작업을 입력하세요.')    \n",
    "        if mode_num=='대여':\n",
    "            print('학번을 입력하세요.')\n",
    "            d = input()\n",
    "            q.enqueue(d)\n",
    "            a=input_func()\n",
    "            if a[0] not in main_data:\n",
    "                print('현재 입력하신 물품은 없습니다.')\n",
    "            elif main_data[a[0]]-a[1]<0:\n",
    "                print('보유한 것보다 많은 수량을 입력하셨습니다. 수량 확인 후 다시 입력해주세요.')\n",
    "            else:\n",
    "                main_data[a[0]]-=a[1]\n",
    "        elif mode_num=='반납':\n",
    "            a=input_func()\n",
    "            if a[1]+main_data[a[0]] > origin_data[a[0]]:\n",
    "                print('초기 등록된 수량을 넘었습니다. 수량을 재확인 하세요.')\n",
    "            else:\n",
    "                main_data[a[0]]+=a[1]\n",
    "        elif mode_num=='현재 상태 확인':\n",
    "            print(main_data)\n",
    "        elif mode_num=='종료':\n",
    "            break\n",
    "        else:\n",
    "            print('입력이 잘못되었습니다.')\n",
    "\n",
    "def 학번확인():\n",
    "    n = 0\n",
    "    print('학번을 입력하세요.')\n",
    "    b = input()\n",
    "    for i in q.items:\n",
    "        if i == b:\n",
    "            n = n+1\n",
    "    print(n)\n",
    "\n",
    "\n",
    "def input_func():\n",
    "    a,b=input().split(' ')\n",
    "    list1=[a,int(b)]\n",
    "    return list1"
   ]
  },
  {
   "cell_type": "code",
   "execution_count": 3,
   "metadata": {},
   "outputs": [
    {
     "name": "stdout",
     "output_type": "stream",
     "text": [
      "물품등록을 원하신다면 비밀번호를 입력해주세요\n",
      "0000\n",
      "잠금해제. 물품 등록 시작. 물품 등록을 멈추시려면 \"종료 0\"을 입력해주세요\n",
      "비커 3\n",
      "약수저 10\n",
      "종료 0\n",
      "정말로 종료하시겠습니까? 종료하시려면 \"종료\"를 입력해주세요\n",
      "종료\n"
     ]
    }
   ],
   "source": [
    "물품등록()"
   ]
  },
  {
   "cell_type": "code",
   "execution_count": null,
   "metadata": {},
   "outputs": [
    {
     "name": "stdout",
     "output_type": "stream",
     "text": [
      "대여, 반납, 현재 상태 확인, 종료 중 원하시는 작업을 입력하세요대여\n",
      "학번을 입력하세요\n",
      "2113\n",
      "비커 1\n",
      "대여, 반납, 현재 상태 확인, 종료 중 원하시는 작업을 입력하세요현재 상태 확인\n",
      "{'비커': 2, '약수저': 10}\n",
      "대여, 반납, 현재 상태 확인, 종료 중 원하시는 작업을 입력하세요반납\n",
      "비커 1\n",
      "대여, 반납, 현재 상태 확인, 종료 중 원하시는 작업을 입력하세요현재 상태 확인\n",
      "{'비커': 3, '약수저': 10}\n",
      "대여, 반납, 현재 상태 확인, 종료 중 원하시는 작업을 입력하세요반납 1\n",
      "입력이 잘못되었습니다.\n",
      "대여, 반납, 현재 상태 확인, 종료 중 원하시는 작업을 입력하세요반납\n",
      "비커 3\n",
      "수량을 재확인 하세요\n"
     ]
    }
   ],
   "source": [
    "대여or반납()"
   ]
  },
  {
   "cell_type": "code",
   "execution_count": null,
   "metadata": {},
   "outputs": [],
   "source": [
    "학번확인()"
   ]
  },
  {
   "cell_type": "code",
   "execution_count": null,
   "metadata": {},
   "outputs": [],
   "source": []
  },
  {
   "cell_type": "code",
   "execution_count": null,
   "metadata": {},
   "outputs": [],
   "source": []
  }
 ],
 "metadata": {
  "kernelspec": {
   "display_name": "Python 3",
   "language": "python",
   "name": "python3"
  },
  "language_info": {
   "codemirror_mode": {
    "name": "ipython",
    "version": 3
   },
   "file_extension": ".py",
   "mimetype": "text/x-python",
   "name": "python",
   "nbconvert_exporter": "python",
   "pygments_lexer": "ipython3",
   "version": "3.7.3"
  }
 },
 "nbformat": 4,
 "nbformat_minor": 2
}
